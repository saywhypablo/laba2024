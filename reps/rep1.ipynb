{
  "nbformat": 4,
  "nbformat_minor": 0,
  "metadata": {
    "colab": {
      "provenance": [],
      "include_colab_link": true
    },
    "kernelspec": {
      "name": "python3",
      "display_name": "Python 3"
    },
    "language_info": {
      "name": "python"
    }
  },
  "cells": [
    {
      "cell_type": "markdown",
      "metadata": {
        "id": "view-in-github",
        "colab_type": "text"
      },
      "source": [
        "<a href=\"https://colab.research.google.com/github/saywhypablo/laba2024/blob/main/reps/rep1.ipynb\" target=\"_parent\"><img src=\"https://colab.research.google.com/assets/colab-badge.svg\" alt=\"Open In Colab\"/></a>"
      ]
    },
    {
      "cell_type": "markdown",
      "source": [
        "## Отчет о выполнении лабораторной работы 1\n",
        "\n",
        "### Ход работы\n",
        "\n",
        "1. Создана учетная запись на сервисе [GitHub](https://github.com).\n",
        "2. Выполнен [форк репозитория](https://github.com/saywhypablo/laba2024).\n",
        "3. Создана учетная запись в [Google Colab](https://colab.research.google.com/).\n",
        "4. Настроена интеграция с Google Colab.\n",
        "5. С помощью Markdown-разметки выполнен отчет в Google Colab.\n",
        "6. Присвоив отчету название ***rep.ipynb***, отчет был сохранен в репозиторий GitHub по директории ***./les01***.\n",
        "7. Создан pull-request в репозиторий [преподавателя](https://github.com/chebotarevsa/dap-2024) в формате: _<Номер лабораторной работы> <Номер группы> <ФИО>_.\n",
        "8. Создан отчет в системе [Пегас](https://pegas.bsuedu.ru/mod/assign/view.php?id=1730202)."
      ],
      "metadata": {
        "id": "Xz7jdJCishp9"
      }
    }
  ]
}