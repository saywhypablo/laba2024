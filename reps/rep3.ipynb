{
  "cells": [
    {
      "cell_type": "markdown",
      "metadata": {
        "id": "view-in-github",
        "colab_type": "text"
      },
      "source": [
        "<a href=\"https://colab.research.google.com/github/saywhypablo/laba2024/blob/main/reps/rep3.ipynb\" target=\"_parent\"><img src=\"https://colab.research.google.com/assets/colab-badge.svg\" alt=\"Open In Colab\"/></a>"
      ]
    },
    {
      "cell_type": "markdown",
      "metadata": {
        "id": "qQvfD-M40xIt"
      },
      "source": [
        "# Лабораторная работа №3. NumPy"
      ]
    },
    {
      "cell_type": "markdown",
      "metadata": {
        "id": "aONHRL--mohl"
      },
      "source": [
        "## Задание"
      ]
    },
    {
      "cell_type": "markdown",
      "metadata": {
        "id": "Q8FFEA2R08uS"
      },
      "source": [
        "Выполните следующие задания:\n",
        "\n",
        "1. Откройте в файл в Google Colab (используйте собственный форк репозитория).\n",
        "2. Решите задачи.\n",
        "3. Сохраните результат в ваш репозиторий github в директорию ./les03\n",
        "4. Создайте pull request в репозиторий https://github.com/chebotarevsa/dap-2024. Название pull request должно иметь формат \"<Номер лабораторной работы>  <Номер группы> <ФИО>\"\n",
        "5. Сдайте работу в системе \"Пегас\", в отчет укажите ссылку на pull request"
      ]
    },
    {
      "cell_type": "code",
      "execution_count": null,
      "metadata": {
        "colab": {
          "base_uri": "https://localhost:8080/",
          "height": 36
        },
        "id": "3ftbuMN45IlN",
        "outputId": "a67de37e-e894-4dc1-fc70-366370749830"
      },
      "outputs": [
        {
          "output_type": "execute_result",
          "data": {
            "text/plain": [
              "'1.26.4'"
            ],
            "application/vnd.google.colaboratory.intrinsic+json": {
              "type": "string"
            }
          },
          "metadata": {},
          "execution_count": 5
        }
      ],
      "source": [
        "import numpy as np\n",
        "np.version.version"
      ]
    },
    {
      "cell_type": "markdown",
      "metadata": {
        "id": "6iPL4gTu2ECp"
      },
      "source": [
        "1. Создать массив 10x10 со случайными значениями, найти минимум и максимум (низкая)"
      ]
    },
    {
      "cell_type": "code",
      "execution_count": null,
      "metadata": {
        "id": "v-AutHvo2T-D",
        "outputId": "4609b5f7-7436-4928-9116-a8666365bb96",
        "colab": {
          "base_uri": "https://localhost:8080/"
        }
      },
      "outputs": [
        {
          "output_type": "stream",
          "name": "stdout",
          "text": [
            "\n",
            "Created array: \n",
            "\n",
            " [[70 15 72 94 53 46 92 76 77 18]\n",
            " [98 71 12 10 91 48 43  4  8 45]\n",
            " [18 18 49 54 88 10 52 93 52 92]\n",
            " [52 65 98 63 68 31 87 21 14 77]\n",
            " [99 59 56 85 99 43 11 61 26 71]\n",
            " [75 66 30 73 34 50 23 45 79 90]\n",
            " [41  2 16 48  3 67 41 21 48 18]\n",
            " [85 37 49 74 22 48 38 69 15 96]\n",
            " [19 28 84 13 90 28 59  7 97 59]\n",
            " [ 5 47  9 37 78 83 27 52 44 38]]\n",
            "\n",
            "Minimum of the array is 2\n",
            "Maximum of the array is 99\n"
          ]
        }
      ],
      "source": [
        "import numpy as np\n",
        "array = np.random.randint(1, 100, (10, 10))\n",
        "print(\"\\nCreated array: \\n\\n\", array)\n",
        "print(\"\\nMinimum of the array is\", array.min())\n",
        "print(\"Maximum of the array is\", array.max())"
      ]
    },
    {
      "cell_type": "markdown",
      "metadata": {
        "id": "cwxKoGik2Xfd"
      },
      "source": [
        "2. Создать 8x8 матрицу и заполнить её единицами и нулями в шахматном порядке"
      ]
    },
    {
      "cell_type": "code",
      "execution_count": null,
      "metadata": {
        "id": "zACAjKWC2lBy",
        "outputId": "828954c1-2040-46c3-8b26-12e341c506aa",
        "colab": {
          "base_uri": "https://localhost:8080/"
        }
      },
      "outputs": [
        {
          "output_type": "stream",
          "name": "stdout",
          "text": [
            "Created matrix in a checkerboard order: \n",
            " [[0. 1. 0. 1. 0. 1. 0. 1.]\n",
            " [1. 0. 1. 0. 1. 0. 1. 0.]\n",
            " [0. 1. 0. 1. 0. 1. 0. 1.]\n",
            " [1. 0. 1. 0. 1. 0. 1. 0.]\n",
            " [0. 1. 0. 1. 0. 1. 0. 1.]\n",
            " [1. 0. 1. 0. 1. 0. 1. 0.]\n",
            " [0. 1. 0. 1. 0. 1. 0. 1.]\n",
            " [1. 0. 1. 0. 1. 0. 1. 0.]]\n"
          ]
        }
      ],
      "source": [
        "import numpy as np\n",
        "matrix = np.zeros((8,8))\n",
        "matrix[::2, 1::2] = 1\n",
        "matrix[1::2, ::2] = 1\n",
        "print(\"Created matrix in a checkerboard order: \\n\", matrix)"
      ]
    },
    {
      "cell_type": "markdown",
      "metadata": {
        "id": "YvNFm7Io2tSA"
      },
      "source": [
        "3. Дан массив из 11 элементов, поменять знак у элементов, значения которых между 3 и 8"
      ]
    },
    {
      "cell_type": "code",
      "execution_count": null,
      "metadata": {
        "id": "cczoe3OY27fA",
        "outputId": "66f672a2-4c56-4067-8c64-0276d260407e",
        "colab": {
          "base_uri": "https://localhost:8080/"
        }
      },
      "outputs": [
        {
          "output_type": "stream",
          "name": "stdout",
          "text": [
            "Given array:\n",
            " [ 0  1  2  3  4  5  6  7  8  9 10]\n",
            "Resulted array:\n",
            " [ 0  1  2  3 -4 -5 -6 -7  8  9 10]\n"
          ]
        }
      ],
      "source": [
        "import numpy as np\n",
        "z = np.arange(11)\n",
        "print(\"Given array:\\n\", z)\n",
        "z[(z > 3) & (z < 8)] *= -1\n",
        "print(\"Resulted array:\\n\", z)"
      ]
    },
    {
      "cell_type": "markdown",
      "metadata": {
        "id": "tInYHRPf2-jQ"
      },
      "source": [
        "4. Найти среднее значение строки матрицы и вычесть его из каждого елемента строки"
      ]
    },
    {
      "cell_type": "code",
      "execution_count": null,
      "metadata": {
        "id": "Zbv_WG9w3km1",
        "outputId": "b13e53f3-1a67-49ec-c05c-d070e72aab55",
        "colab": {
          "base_uri": "https://localhost:8080/"
        }
      },
      "outputs": [
        {
          "output_type": "stream",
          "name": "stdout",
          "text": [
            "Given matrix: \n",
            " [[0.46569357 0.1815465  0.80316938 0.20348643 0.33992465 0.46167007\n",
            "  0.28560155 0.49593624 0.98945756 0.87279392]\n",
            " [0.63308917 0.01705331 0.2310777  0.89429256 0.94588741 0.43573295\n",
            "  0.52776255 0.78609565 0.03735222 0.5305422 ]\n",
            " [0.35409233 0.36385542 0.21051265 0.95066802 0.96986513 0.07382601\n",
            "  0.30795656 0.08373884 0.45135231 0.27156606]\n",
            " [0.82128302 0.89571537 0.23433549 0.17894688 0.75733436 0.35934592\n",
            "  0.53424108 0.54642176 0.87790331 0.38755212]\n",
            " [0.23552279 0.42007969 0.84959688 0.63950705 0.41591213 0.60183995\n",
            "  0.62425637 0.50742447 0.60021787 0.74054176]]\n",
            "\n",
            "Means:\n",
            " [0.50992799 0.50388857 0.40374333 0.55930793 0.56348989]\n",
            "\n",
            "Resulted matrix:\n",
            " [[-0.04423441 -0.32838149  0.29324139 -0.30644156 -0.17000334 -0.04825792\n",
            "  -0.22432643 -0.01399175  0.47952957  0.87279392]\n",
            " [ 0.1292006  -0.48683526 -0.27281087  0.39040399  0.44199883 -0.06815562\n",
            "   0.02387397  0.28220708 -0.46653635  0.5305422 ]\n",
            " [-0.049651   -0.03988792 -0.19323069  0.54692468  0.5661218  -0.32991732\n",
            "  -0.09578678 -0.32000449  0.04760898  0.27156606]\n",
            " [ 0.26197509  0.33640743 -0.32497244 -0.38036105  0.19802643 -0.19996201\n",
            "  -0.02506685 -0.01288617  0.31859538  0.38755212]\n",
            " [-0.32796711 -0.1434102   0.28610699  0.07601715 -0.14757777  0.03835005\n",
            "   0.06076647 -0.05606543  0.03672798  0.74054176]]\n"
          ]
        }
      ],
      "source": [
        "import numpy as np\n",
        "z = np.random.rand(5, 10)\n",
        "print(\"Given matrix: \\n\", z)\n",
        "means = np.mean(z, axis=1, keepdims=True)\n",
        "z[:, :9] -= means\n",
        "print(\"\\nMeans:\\n\", means.reshape(-1))\n",
        "print(\"\\nResulted matrix:\\n\", z)"
      ]
    },
    {
      "cell_type": "markdown",
      "metadata": {
        "id": "OStor4mW3lpJ"
      },
      "source": [
        "5. Поменяйте 1 и 2 строки матрицы"
      ]
    },
    {
      "cell_type": "code",
      "execution_count": null,
      "metadata": {
        "id": "5vfeHqyF3qKd",
        "outputId": "1f86671d-d9e6-4df2-9dcb-6acc7cab9e52",
        "colab": {
          "base_uri": "https://localhost:8080/"
        }
      },
      "outputs": [
        {
          "output_type": "stream",
          "name": "stdout",
          "text": [
            "Given matrix:\n",
            " [[ 0  1  2  3  4]\n",
            " [ 5  6  7  8  9]\n",
            " [10 11 12 13 14]\n",
            " [15 16 17 18 19]\n",
            " [20 21 22 23 24]]\n",
            "\n",
            "Resulted matrix:\n",
            " [[ 0  1  2  3  4]\n",
            " [10 11 12 13 14]\n",
            " [ 5  6  7  8  9]\n",
            " [15 16 17 18 19]\n",
            " [20 21 22 23 24]]\n"
          ]
        }
      ],
      "source": [
        "import numpy as np\n",
        "z = np.arange(25).reshape(5,5)\n",
        "print(\"Given matrix:\\n\", z)\n",
        "z[[1, 2]] = z[[2, 1]]\n",
        "print(\"\\nResulted matrix:\\n\", z)"
      ]
    },
    {
      "cell_type": "markdown",
      "metadata": {
        "id": "IPQ9xIIk3qml"
      },
      "source": [
        "6. Дан массив 10x2 подеставлющий собой точки в декартовой системе координат, преобразовать в полярную"
      ]
    },
    {
      "cell_type": "code",
      "execution_count": null,
      "metadata": {
        "id": "zGHBaX8b30Uv",
        "outputId": "de9db990-1090-468d-9623-b97bf23126e3",
        "colab": {
          "base_uri": "https://localhost:8080/"
        }
      },
      "outputs": [
        {
          "output_type": "stream",
          "name": "stdout",
          "text": [
            "Cartesian coordinates:\n",
            " [[0.32178997 0.0937008 ]\n",
            " [0.75365163 0.66358606]\n",
            " [0.5453651  0.35832349]\n",
            " [0.96719143 0.62511361]\n",
            " [0.58869505 0.51371142]\n",
            " [0.47786978 0.41163886]\n",
            " [0.46133253 0.04401076]\n",
            " [0.69408954 0.72432048]\n",
            " [0.73975482 0.96465745]\n",
            " [0.91598625 0.43933342]]\n",
            "\n",
            "Polar coordinates (rad):\n",
            " [[0.33515463 0.28335125]\n",
            " [1.00415996 0.72193343]\n",
            " [0.65254794 0.58130424]\n",
            " [1.15161898 0.57378274]\n",
            " [0.78132022 0.71748463]\n",
            " [0.6307187  0.71107743]\n",
            " [0.46342707 0.09511138]\n",
            " [1.00319512 0.80670819]\n",
            " [1.21564847 0.91659341]\n",
            " [1.01589598 0.44721827]]\n"
          ]
        }
      ],
      "source": [
        "import numpy as np\n",
        "z = np.random.random((10, 2))\n",
        "print(\"Cartesian coordinates:\\n\", z)\n",
        "x = z[:, 0]\n",
        "y = z[:, 1]\n",
        "r = np.sqrt(x ** 2 + y ** 2)\n",
        "phi = np.arctan2(y, x)\n",
        "pz = np.column_stack((r, phi))\n",
        "print(\"\\nPolar coordinates (rad):\\n\", pz)"
      ]
    },
    {
      "cell_type": "markdown",
      "metadata": {
        "id": "10gbuTgE4AOH"
      },
      "source": [
        "7. Заменить максимальный элемент массива на ноль"
      ]
    },
    {
      "cell_type": "code",
      "execution_count": null,
      "metadata": {
        "id": "gqwuO2T_5Aqd",
        "outputId": "38f3b757-8985-4452-ebb6-959fcc21605e",
        "colab": {
          "base_uri": "https://localhost:8080/"
        }
      },
      "outputs": [
        {
          "output_type": "stream",
          "name": "stdout",
          "text": [
            "Given array:\n",
            " [0.71749159 0.19894109 0.0730445  0.11065191 0.95350267 0.79382426\n",
            " 0.03769261 0.2845962  0.33925691 0.36217231]\n",
            "\n",
            "Index of the maximum element: 4\n",
            "\n",
            "Resulted array:\n",
            " [0.71749159 0.19894109 0.0730445  0.11065191 0.         0.79382426\n",
            " 0.03769261 0.2845962  0.33925691 0.36217231]\n"
          ]
        }
      ],
      "source": [
        "import numpy as np\n",
        "z = np.random.random(10)\n",
        "print(\"Given array:\\n\", z)\n",
        "max = np.argmax(z)\n",
        "print(\"\\nIndex of the maximum element:\", max)\n",
        "z[max] = 0\n",
        "print(\"\\nResulted array:\\n\", z)"
      ]
    },
    {
      "cell_type": "markdown",
      "metadata": {
        "id": "88m_eWXM6nZY"
      },
      "source": [
        "8. Дан массив, добавить 1 к каждому элементу с индексом, заданным в другом массиве. Добавление производиться только 1 раз"
      ]
    },
    {
      "cell_type": "code",
      "execution_count": null,
      "metadata": {
        "id": "-5yj9k126pfh",
        "outputId": "8c950cea-63f6-4b34-c2ef-8f26cb7ccadc",
        "colab": {
          "base_uri": "https://localhost:8080/"
        }
      },
      "outputs": [
        {
          "output_type": "stream",
          "name": "stdout",
          "text": [
            "Given array:\n",
            " [1. 1. 1. 1. 1. 1. 1. 1. 1. 1.]\n",
            "\n",
            "Given indices:\n",
            " [5 4 6 0 9 2 5 5 2 3 9 0 4 4 1 9 1 0 1 0]\n",
            "\n",
            "Resulted array:\n",
            " [2. 2. 2. 2. 2. 2. 2. 1. 1. 2.]\n"
          ]
        }
      ],
      "source": [
        "import numpy as np\n",
        "z = np.ones(10)\n",
        "i = np.random.randint(0,len(z),20)\n",
        "print(\"Given array:\\n\", z)\n",
        "print(\"\\nGiven indices:\\n\", i)\n",
        "unique = np.unique(i)\n",
        "z[unique] += 1\n",
        "print(\"\\nResulted array:\\n\", z)"
      ]
    },
    {
      "cell_type": "markdown",
      "metadata": {
        "id": "0HByAVK77JCG"
      },
      "source": [
        "9. Дан вектор [1, 2, 3, 4, 5], построить новый вектор с тремя нулями между каждым значением"
      ]
    },
    {
      "cell_type": "code",
      "source": [],
      "metadata": {
        "id": "fZy9vYXvuMWW"
      },
      "execution_count": null,
      "outputs": []
    },
    {
      "cell_type": "code",
      "execution_count": null,
      "metadata": {
        "id": "2AiZt-J47dqq",
        "outputId": "c5b7fa21-7ca3-451e-8560-786cdd9c6e3d",
        "colab": {
          "base_uri": "https://localhost:8080/"
        }
      },
      "outputs": [
        {
          "output_type": "stream",
          "name": "stdout",
          "text": [
            "Given array:\n",
            " [1 2 3 4 5]\n",
            "\n",
            "Resulted array:\n",
            " [1. 0. 0. 0. 2. 0. 0. 0. 3. 0. 0. 0. 4. 0. 0. 0. 5.]\n"
          ]
        }
      ],
      "source": [
        "import numpy as np\n",
        "z = np.array([1,2,3,4,5])\n",
        "print(\"Given array:\\n\", z)\n",
        "x = np.zeros(len(z) + (len(z) - 1) * 3)\n",
        "x[::4] = z\n",
        "print(\"\\nResulted array:\\n\", x)"
      ]
    },
    {
      "cell_type": "markdown",
      "metadata": {
        "id": "i0uK-dO08AKP"
      },
      "source": [
        "10. Найти ближайшее к заданному значению число в заданном массиве"
      ]
    },
    {
      "cell_type": "code",
      "execution_count": null,
      "metadata": {
        "id": "sE0DlZO_-4Cb",
        "outputId": "0a0f2e24-8ccd-4726-cc78-e8c0ffc25881",
        "colab": {
          "base_uri": "https://localhost:8080/"
        }
      },
      "outputs": [
        {
          "output_type": "stream",
          "name": "stdout",
          "text": [
            "Given array:\n",
            " [ 0  1  2  3  4  5  6  7  8  9 10 11 12 13 14 15 16 17 18 19 20 21 22 23\n",
            " 24 25 26 27 28 29 30 31 32 33 34 35 36 37 38 39 40 41 42 43 44 45 46 47\n",
            " 48 49 50 51 52 53 54 55 56 57 58 59 60 61 62 63 64 65 66 67 68 69 70 71\n",
            " 72 73 74 75 76 77 78 79 80 81 82 83 84 85 86 87 88 89 90 91 92 93 94 95\n",
            " 96 97 98 99]\n",
            "\n",
            "Given number: 45.35074331620309\n",
            "\n",
            "Closest number to 45.35074331620309 is 45\n"
          ]
        }
      ],
      "source": [
        "import numpy as np\n",
        "z = np.arange(100)\n",
        "v = np.random.uniform(0,100)\n",
        "print(\"Given array:\\n\", z)\n",
        "print(\"\\nGiven number:\", v)\n",
        "x = np.fabs(z - v).argmin()\n",
        "y = z[x]\n",
        "print(\"\\nClosest number to\", v, \"is\", y)"
      ]
    },
    {
      "cell_type": "markdown",
      "metadata": {
        "id": "0zUpsgh8uCfQ"
      },
      "source": [
        "## Вопросы\n",
        "\n",
        "\n"
      ]
    },
    {
      "cell_type": "markdown",
      "metadata": {
        "id": "RQEMkoq5vc3k"
      },
      "source": [
        "**1**. Какой тип (dtype) будут иметь элементы массива?\n",
        "``` python\n",
        "np.array([1, 4, 2, 5, 3])\n",
        "np.array([1., 4, 2, 5, 3])\n",
        "np.array([1, 4, 2, 5, 3], dtype='float128')\n",
        "np.array([1., 4, 2, 5, 3], dtype='complex128')\n",
        "np.array([1, 4, 2, 5, 3], dtype ='float64')\n",
        "np.array([1, 4, 2, 5, 3], dtype =int64)\n",
        "np.array([1, 4, 2, 5, 3], dtype='bool')\n",
        "np.array([1, 4, 2, 5, 3], dtype='str')\n",
        "np.array([1, 4, 2, 5, '3'])\n",
        "np.array([1, -4, 2, 0, 1j])\n",
        "```"
      ]
    },
    {
      "cell_type": "markdown",
      "metadata": {
        "id": "SlJfe4Bgvd16"
      },
      "source": [
        "**2**. Что будет выведено в консоль и почему?\n",
        "``` python\n",
        "np.array([1, 4, 2, 5, 3], dtype='str')[1] + '1'\n",
        "np.array([1, -4, 2, 0, 3], dtype='bool')[3] or np.array([1, -4, 2, 0, 3])[1]\n",
        "np.array([1, -4, 2, 0, 3], dtype='bool')[3] and np.array([1, -4, 2, 0, 3])[1]\n",
        "np.array([1, -4, 2, 0, True], dtype='int64')[-1]\n",
        "np.array([1, -4, 2, 0, 1j], dtype='int64')[1]\n",
        "np.array([1, -4, 2, 0, 1j], dtype='str')[-1]\n",
        "np.array([1, 4, 2, 5, '3'])[-1] * 3\n",
        "```"
      ]
    },
    {
      "cell_type": "markdown",
      "metadata": {
        "id": "X50PESx7xVAc"
      },
      "source": [
        "**3**. Каков результат операции?\n",
        "\n",
        "``` python\n",
        "np.ones((3, 5), dtype=float)\n",
        "np.full((3, 5), 3.14)\n",
        "np.linspace(0, 1, 5)\n",
        "np.diag((1,3,5))\n",
        "np.smile((1,3,5))\n",
        "np.random.random((3, 3))\n",
        "np.eye(3)\n",
        "np.empty(3)\n",
        "```\n",
        "\n"
      ]
    },
    {
      "cell_type": "markdown",
      "metadata": {
        "id": "D6Bt-8cfAWrA"
      },
      "source": [
        "**4**. Дан двумерный массив X, что будет выведено в консоль?\n",
        "\n",
        "``` python\n",
        "X = np.array([[3, 5, 2, 4],\n",
        "      [7, 6, 8, 8],\n",
        "      [1, 6, 7, 7]])\n",
        "```\n",
        "\n",
        "``` python\n",
        "X[0,0]\n",
        "X[-1,-1]\n",
        "X[0:1,-1]\n",
        "X[0:2,-1]\n",
        "X[0:2,0:2]\n",
        "X[1,1:3]\n",
        "X[1,:]\n",
        "X[1,:]\n",
        "X[:,:]\n",
        "X[:]\n",
        "X[::2,::2]\n",
        "X[0:3:2,0:3:2]\n",
        "X[::-1,::-1]\n",
        "```"
      ]
    },
    {
      "cell_type": "markdown",
      "metadata": {
        "id": "lz2__pDDmohx"
      },
      "source": [
        "**5**. Дан двумерный массив grid, в чем различее между операциями?\n",
        "\n",
        "\n",
        "``` python\n",
        "grid = np.arange(16).reshape((4, 4))\n",
        "```\n",
        "\n",
        "``` python\n",
        "np.split(grid, [2])\n",
        "np.split(grid, [2], axis=1)\n",
        "```\n"
      ]
    },
    {
      "cell_type": "markdown",
      "metadata": {
        "id": "t1hd309Nmohy"
      },
      "source": [
        "**6**. В чем различие между операциями?\n",
        "\n",
        "``` python\n",
        "    [1, 2, 3] + [3, 2, 1]\n",
        "    np.array([1, 2, 3]) + np.array([3, 2, 1])\n",
        "```"
      ]
    },
    {
      "cell_type": "markdown",
      "metadata": {
        "id": "kfKOyiklmohy"
      },
      "source": [
        "**7**. Как в CodeLab измерить время выполнения кода?"
      ]
    },
    {
      "cell_type": "markdown",
      "metadata": {
        "id": "G_Pv0ZlSmohy"
      },
      "source": [
        "**8**. Дан массив X, каковы результаты операций?\n",
        "\n",
        "```python\n",
        "X = np.array([[3, 5, 2, 4],\n",
        "      [7, 6, 8, 8],\n",
        "      [1, 6, 7, 7]])\n",
        "\n",
        "np.sum(M)\n",
        "np.sum(M, axis=1)\n",
        "np.sum(M, axis=0)\n",
        "np.sum(M, axis=2)\n",
        "np.sum(M, 1)\n",
        "sum(M)\n",
        "sum(M,1)\n",
        "```"
      ]
    },
    {
      "cell_type": "markdown",
      "metadata": {
        "id": "ai7i5Ufbmohy"
      },
      "source": [
        "**9**. Дан массив X, что будет выведено в консоль?\n",
        "\n",
        "```python\n",
        "X = np.array([1,2,3,4])\n",
        "\n",
        "X > 3\n",
        "X < 3\n",
        "X[X < 3]\n",
        "X[X > 3]\n",
        "X[X != 3]\n",
        "```"
      ]
    },
    {
      "cell_type": "markdown",
      "metadata": {
        "id": "MMFwRpnOmohz"
      },
      "source": [
        "**10**.  В чем преимущество массивов NumPy по сравнению с обычными списками.  Чем обусловлено это преимущество?"
      ]
    }
  ],
  "metadata": {
    "colab": {
      "provenance": [],
      "include_colab_link": true
    },
    "kernelspec": {
      "display_name": "Python 3",
      "name": "python3"
    },
    "language_info": {
      "codemirror_mode": {
        "name": "ipython",
        "version": 3
      },
      "file_extension": ".py",
      "mimetype": "text/x-python",
      "name": "python",
      "nbconvert_exporter": "python",
      "pygments_lexer": "ipython3",
      "version": "3.12.2"
    }
  },
  "nbformat": 4,
  "nbformat_minor": 0
}